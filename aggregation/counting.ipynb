{
 "cells": [
  {
   "cell_type": "code",
   "execution_count": 1,
   "metadata": {},
   "outputs": [
    {
     "name": "stdout",
     "output_type": "stream",
     "text": [
      "Reading GeoDataFrame...\n",
      "Done\n",
      "Loading all values...\n",
      "Done...\n"
     ]
    },
    {
     "name": "stderr",
     "output_type": "stream",
     "text": [
      "  0%|          | 1/1085 [00:00<07:14,  2.49it/s]"
     ]
    },
    {
     "name": "stdout",
     "output_type": "stream",
     "text": [
      "torch.Size([500, 262144])\n",
      "torch.Size([500])\n"
     ]
    },
    {
     "name": "stderr",
     "output_type": "stream",
     "text": [
      "  0%|          | 2/1085 [00:01<11:35,  1.56it/s]"
     ]
    },
    {
     "name": "stdout",
     "output_type": "stream",
     "text": [
      "torch.Size([500, 262144])\n",
      "torch.Size([500])\n"
     ]
    },
    {
     "name": "stderr",
     "output_type": "stream",
     "text": [
      "  0%|          | 3/1085 [00:02<15:19,  1.18it/s]"
     ]
    },
    {
     "name": "stdout",
     "output_type": "stream",
     "text": [
      "torch.Size([500, 262144])\n",
      "torch.Size([500])\n"
     ]
    },
    {
     "name": "stderr",
     "output_type": "stream",
     "text": [
      "  0%|          | 4/1085 [00:02<11:20,  1.59it/s]"
     ]
    },
    {
     "name": "stdout",
     "output_type": "stream",
     "text": [
      "torch.Size([500, 262144])\n",
      "torch.Size([500])\n"
     ]
    },
    {
     "name": "stderr",
     "output_type": "stream",
     "text": [
      "  0%|          | 5/1085 [00:03<11:41,  1.54it/s]"
     ]
    },
    {
     "name": "stdout",
     "output_type": "stream",
     "text": [
      "torch.Size([500, 262144])\n",
      "torch.Size([500])\n"
     ]
    },
    {
     "name": "stderr",
     "output_type": "stream",
     "text": [
      "  1%|          | 6/1085 [00:04<14:15,  1.26it/s]"
     ]
    },
    {
     "name": "stdout",
     "output_type": "stream",
     "text": [
      "torch.Size([500, 262144])\n",
      "torch.Size([500])\n"
     ]
    },
    {
     "name": "stderr",
     "output_type": "stream",
     "text": [
      "  1%|          | 6/1085 [00:05<15:06,  1.19it/s]\n"
     ]
    },
    {
     "ename": "KeyboardInterrupt",
     "evalue": "",
     "output_type": "error",
     "traceback": [
      "\u001b[0;31m---------------------------------------------------------------------------\u001b[0m",
      "\u001b[0;31mKeyboardInterrupt\u001b[0m                         Traceback (most recent call last)",
      "\u001b[1;32m/u/amo-d0/grad/cgar/Projects/disaggregation/aggregation/counting.ipynb Cell 1'\u001b[0m in \u001b[0;36m<module>\u001b[0;34m\u001b[0m\n\u001b[1;32m     <a href='vscode-notebook-cell://ssh-remote%2Braven.csr.uky.edu/u/amo-d0/grad/cgar/Projects/disaggregation/aggregation/counting.ipynb#ch0000000vscode-remote?line=9'>10</a>\u001b[0m pixel_counts \u001b[39m=\u001b[39m []\n\u001b[1;32m     <a href='vscode-notebook-cell://ssh-remote%2Braven.csr.uky.edu/u/amo-d0/grad/cgar/Projects/disaggregation/aggregation/counting.ipynb#ch0000000vscode-remote?line=10'>11</a>\u001b[0m values \u001b[39m=\u001b[39m []\n\u001b[0;32m---> <a href='vscode-notebook-cell://ssh-remote%2Braven.csr.uky.edu/u/amo-d0/grad/cgar/Projects/disaggregation/aggregation/counting.ipynb#ch0000000vscode-remote?line=11'>12</a>\u001b[0m \u001b[39mfor\u001b[39;00m sample \u001b[39min\u001b[39;00m tqdm(ds):\n\u001b[1;32m     <a href='vscode-notebook-cell://ssh-remote%2Braven.csr.uky.edu/u/amo-d0/grad/cgar/Projects/disaggregation/aggregation/counting.ipynb#ch0000000vscode-remote?line=12'>13</a>\u001b[0m     image_count\u001b[39m+\u001b[39m\u001b[39m=\u001b[39m\u001b[39m1\u001b[39m\n\u001b[1;32m     <a href='vscode-notebook-cell://ssh-remote%2Braven.csr.uky.edu/u/amo-d0/grad/cgar/Projects/disaggregation/aggregation/counting.ipynb#ch0000000vscode-remote?line=13'>14</a>\u001b[0m     \u001b[39m#parcel_counts = np.append(parcel_counts, len(sample['masks']))\u001b[39;00m\n",
      "File \u001b[0;32m/localdisk0/SCRATCH/cgarchbold/envs/py39/lib/python3.9/site-packages/tqdm/std.py:1180\u001b[0m, in \u001b[0;36mtqdm.__iter__\u001b[0;34m(self)\u001b[0m\n\u001b[1;32m   <a href='file:///localdisk0/SCRATCH/cgarchbold/envs/py39/lib/python3.9/site-packages/tqdm/std.py?line=1176'>1177</a>\u001b[0m time \u001b[39m=\u001b[39m \u001b[39mself\u001b[39m\u001b[39m.\u001b[39m_time\n\u001b[1;32m   <a href='file:///localdisk0/SCRATCH/cgarchbold/envs/py39/lib/python3.9/site-packages/tqdm/std.py?line=1178'>1179</a>\u001b[0m \u001b[39mtry\u001b[39;00m:\n\u001b[0;32m-> <a href='file:///localdisk0/SCRATCH/cgarchbold/envs/py39/lib/python3.9/site-packages/tqdm/std.py?line=1179'>1180</a>\u001b[0m     \u001b[39mfor\u001b[39;00m obj \u001b[39min\u001b[39;00m iterable:\n\u001b[1;32m   <a href='file:///localdisk0/SCRATCH/cgarchbold/envs/py39/lib/python3.9/site-packages/tqdm/std.py?line=1180'>1181</a>\u001b[0m         \u001b[39myield\u001b[39;00m obj\n\u001b[1;32m   <a href='file:///localdisk0/SCRATCH/cgarchbold/envs/py39/lib/python3.9/site-packages/tqdm/std.py?line=1181'>1182</a>\u001b[0m         \u001b[39m# Update and possibly print the progressbar.\u001b[39;00m\n\u001b[1;32m   <a href='file:///localdisk0/SCRATCH/cgarchbold/envs/py39/lib/python3.9/site-packages/tqdm/std.py?line=1182'>1183</a>\u001b[0m         \u001b[39m# Note: does not call self.update(1) for speed optimisation.\u001b[39;00m\n",
      "File \u001b[0;32m/mounts/u-amo-d0/grad/cgar/Projects/disaggregation/aggregation/datasets/hennepin.py:164\u001b[0m, in \u001b[0;36mdataset_hennepin.__getitem__\u001b[0;34m(self, idx)\u001b[0m\n\u001b[1;32m    <a href='file:///mounts/u-amo-d0/grad/cgar/Projects/disaggregation/aggregation/datasets/hennepin.py?line=160'>161</a>\u001b[0m     mask \u001b[39m=\u001b[39m Image\u001b[39m.\u001b[39mopen(mask_path)\n\u001b[1;32m    <a href='file:///mounts/u-amo-d0/grad/cgar/Projects/disaggregation/aggregation/datasets/hennepin.py?line=162'>163</a>\u001b[0m     \u001b[39m# each mask is generated upside down\u001b[39;00m\n\u001b[0;32m--> <a href='file:///mounts/u-amo-d0/grad/cgar/Projects/disaggregation/aggregation/datasets/hennepin.py?line=163'>164</a>\u001b[0m     mask \u001b[39m=\u001b[39m transforms_function\u001b[39m.\u001b[39;49mvflip(mask)\n\u001b[1;32m    <a href='file:///mounts/u-amo-d0/grad/cgar/Projects/disaggregation/aggregation/datasets/hennepin.py?line=165'>166</a>\u001b[0m     masks\u001b[39m.\u001b[39mappend(mask)\n\u001b[1;32m    <a href='file:///mounts/u-amo-d0/grad/cgar/Projects/disaggregation/aggregation/datasets/hennepin.py?line=168'>169</a>\u001b[0m \u001b[39m# image\u001b[39;00m\n",
      "File \u001b[0;32m/localdisk0/SCRATCH/cgarchbold/envs/py39/lib/python3.9/site-packages/torchvision/transforms/functional.py:683\u001b[0m, in \u001b[0;36mvflip\u001b[0;34m(img)\u001b[0m\n\u001b[1;32m    <a href='file:///localdisk0/SCRATCH/cgarchbold/envs/py39/lib/python3.9/site-packages/torchvision/transforms/functional.py?line=670'>671</a>\u001b[0m \u001b[39m\"\"\"Vertically flip the given image.\u001b[39;00m\n\u001b[1;32m    <a href='file:///localdisk0/SCRATCH/cgarchbold/envs/py39/lib/python3.9/site-packages/torchvision/transforms/functional.py?line=671'>672</a>\u001b[0m \n\u001b[1;32m    <a href='file:///localdisk0/SCRATCH/cgarchbold/envs/py39/lib/python3.9/site-packages/torchvision/transforms/functional.py?line=672'>673</a>\u001b[0m \u001b[39mArgs:\u001b[39;00m\n\u001b[0;32m   (...)\u001b[0m\n\u001b[1;32m    <a href='file:///localdisk0/SCRATCH/cgarchbold/envs/py39/lib/python3.9/site-packages/torchvision/transforms/functional.py?line=679'>680</a>\u001b[0m \u001b[39m    PIL Image or Tensor:  Vertically flipped image.\u001b[39;00m\n\u001b[1;32m    <a href='file:///localdisk0/SCRATCH/cgarchbold/envs/py39/lib/python3.9/site-packages/torchvision/transforms/functional.py?line=680'>681</a>\u001b[0m \u001b[39m\"\"\"\u001b[39;00m\n\u001b[1;32m    <a href='file:///localdisk0/SCRATCH/cgarchbold/envs/py39/lib/python3.9/site-packages/torchvision/transforms/functional.py?line=681'>682</a>\u001b[0m \u001b[39mif\u001b[39;00m \u001b[39mnot\u001b[39;00m \u001b[39misinstance\u001b[39m(img, torch\u001b[39m.\u001b[39mTensor):\n\u001b[0;32m--> <a href='file:///localdisk0/SCRATCH/cgarchbold/envs/py39/lib/python3.9/site-packages/torchvision/transforms/functional.py?line=682'>683</a>\u001b[0m     \u001b[39mreturn\u001b[39;00m F_pil\u001b[39m.\u001b[39;49mvflip(img)\n\u001b[1;32m    <a href='file:///localdisk0/SCRATCH/cgarchbold/envs/py39/lib/python3.9/site-packages/torchvision/transforms/functional.py?line=684'>685</a>\u001b[0m \u001b[39mreturn\u001b[39;00m F_t\u001b[39m.\u001b[39mvflip(img)\n",
      "File \u001b[0;32m/localdisk0/SCRATCH/cgarchbold/envs/py39/lib/python3.9/site-packages/torchvision/transforms/functional_pil.py:49\u001b[0m, in \u001b[0;36mvflip\u001b[0;34m(img)\u001b[0m\n\u001b[1;32m     <a href='file:///localdisk0/SCRATCH/cgarchbold/envs/py39/lib/python3.9/site-packages/torchvision/transforms/functional_pil.py?line=45'>46</a>\u001b[0m \u001b[39mif\u001b[39;00m \u001b[39mnot\u001b[39;00m _is_pil_image(img):\n\u001b[1;32m     <a href='file:///localdisk0/SCRATCH/cgarchbold/envs/py39/lib/python3.9/site-packages/torchvision/transforms/functional_pil.py?line=46'>47</a>\u001b[0m     \u001b[39mraise\u001b[39;00m \u001b[39mTypeError\u001b[39;00m(\u001b[39m'\u001b[39m\u001b[39mimg should be PIL Image. Got \u001b[39m\u001b[39m{}\u001b[39;00m\u001b[39m'\u001b[39m\u001b[39m.\u001b[39mformat(\u001b[39mtype\u001b[39m(img)))\n\u001b[0;32m---> <a href='file:///localdisk0/SCRATCH/cgarchbold/envs/py39/lib/python3.9/site-packages/torchvision/transforms/functional_pil.py?line=48'>49</a>\u001b[0m \u001b[39mreturn\u001b[39;00m img\u001b[39m.\u001b[39;49mtranspose(Image\u001b[39m.\u001b[39;49mFLIP_TOP_BOTTOM)\n",
      "File \u001b[0;32m/localdisk0/SCRATCH/cgarchbold/envs/py39/lib/python3.9/site-packages/PIL/Image.py:2587\u001b[0m, in \u001b[0;36mImage.transpose\u001b[0;34m(self, method)\u001b[0m\n\u001b[1;32m   <a href='file:///localdisk0/SCRATCH/cgarchbold/envs/py39/lib/python3.9/site-packages/PIL/Image.py?line=2575'>2576</a>\u001b[0m \u001b[39mdef\u001b[39;00m \u001b[39mtranspose\u001b[39m(\u001b[39mself\u001b[39m, method):\n\u001b[1;32m   <a href='file:///localdisk0/SCRATCH/cgarchbold/envs/py39/lib/python3.9/site-packages/PIL/Image.py?line=2576'>2577</a>\u001b[0m     \u001b[39m\"\"\"\u001b[39;00m\n\u001b[1;32m   <a href='file:///localdisk0/SCRATCH/cgarchbold/envs/py39/lib/python3.9/site-packages/PIL/Image.py?line=2577'>2578</a>\u001b[0m \u001b[39m    Transpose image (flip or rotate in 90 degree steps)\u001b[39;00m\n\u001b[1;32m   <a href='file:///localdisk0/SCRATCH/cgarchbold/envs/py39/lib/python3.9/site-packages/PIL/Image.py?line=2578'>2579</a>\u001b[0m \n\u001b[0;32m   (...)\u001b[0m\n\u001b[1;32m   <a href='file:///localdisk0/SCRATCH/cgarchbold/envs/py39/lib/python3.9/site-packages/PIL/Image.py?line=2583'>2584</a>\u001b[0m \u001b[39m    :returns: Returns a flipped or rotated copy of this image.\u001b[39;00m\n\u001b[1;32m   <a href='file:///localdisk0/SCRATCH/cgarchbold/envs/py39/lib/python3.9/site-packages/PIL/Image.py?line=2584'>2585</a>\u001b[0m \u001b[39m    \"\"\"\u001b[39;00m\n\u001b[0;32m-> <a href='file:///localdisk0/SCRATCH/cgarchbold/envs/py39/lib/python3.9/site-packages/PIL/Image.py?line=2586'>2587</a>\u001b[0m     \u001b[39mself\u001b[39;49m\u001b[39m.\u001b[39;49mload()\n\u001b[1;32m   <a href='file:///localdisk0/SCRATCH/cgarchbold/envs/py39/lib/python3.9/site-packages/PIL/Image.py?line=2587'>2588</a>\u001b[0m     \u001b[39mreturn\u001b[39;00m \u001b[39mself\u001b[39m\u001b[39m.\u001b[39m_new(\u001b[39mself\u001b[39m\u001b[39m.\u001b[39mim\u001b[39m.\u001b[39mtranspose(method))\n",
      "File \u001b[0;32m/localdisk0/SCRATCH/cgarchbold/envs/py39/lib/python3.9/site-packages/PIL/TiffImagePlugin.py:1131\u001b[0m, in \u001b[0;36mTiffImageFile.load\u001b[0;34m(self)\u001b[0m\n\u001b[1;32m   <a href='file:///localdisk0/SCRATCH/cgarchbold/envs/py39/lib/python3.9/site-packages/PIL/TiffImagePlugin.py?line=1128'>1129</a>\u001b[0m \u001b[39mif\u001b[39;00m \u001b[39mself\u001b[39m\u001b[39m.\u001b[39mtile \u001b[39mand\u001b[39;00m \u001b[39mself\u001b[39m\u001b[39m.\u001b[39muse_load_libtiff:\n\u001b[1;32m   <a href='file:///localdisk0/SCRATCH/cgarchbold/envs/py39/lib/python3.9/site-packages/PIL/TiffImagePlugin.py?line=1129'>1130</a>\u001b[0m     \u001b[39mreturn\u001b[39;00m \u001b[39mself\u001b[39m\u001b[39m.\u001b[39m_load_libtiff()\n\u001b[0;32m-> <a href='file:///localdisk0/SCRATCH/cgarchbold/envs/py39/lib/python3.9/site-packages/PIL/TiffImagePlugin.py?line=1130'>1131</a>\u001b[0m \u001b[39mreturn\u001b[39;00m \u001b[39msuper\u001b[39;49m()\u001b[39m.\u001b[39;49mload()\n",
      "File \u001b[0;32m/localdisk0/SCRATCH/cgarchbold/envs/py39/lib/python3.9/site-packages/PIL/ImageFile.py:211\u001b[0m, in \u001b[0;36mImageFile.load\u001b[0;34m(self)\u001b[0m\n\u001b[1;32m    <a href='file:///localdisk0/SCRATCH/cgarchbold/envs/py39/lib/python3.9/site-packages/PIL/ImageFile.py?line=207'>208</a>\u001b[0m         \u001b[39mexcept\u001b[39;00m (\u001b[39mAttributeError\u001b[39;00m, \u001b[39mOSError\u001b[39;00m, \u001b[39mImportError\u001b[39;00m):\n\u001b[1;32m    <a href='file:///localdisk0/SCRATCH/cgarchbold/envs/py39/lib/python3.9/site-packages/PIL/ImageFile.py?line=208'>209</a>\u001b[0m             \u001b[39mself\u001b[39m\u001b[39m.\u001b[39mmap \u001b[39m=\u001b[39m \u001b[39mNone\u001b[39;00m\n\u001b[0;32m--> <a href='file:///localdisk0/SCRATCH/cgarchbold/envs/py39/lib/python3.9/site-packages/PIL/ImageFile.py?line=210'>211</a>\u001b[0m \u001b[39mself\u001b[39;49m\u001b[39m.\u001b[39;49mload_prepare()\n\u001b[1;32m    <a href='file:///localdisk0/SCRATCH/cgarchbold/envs/py39/lib/python3.9/site-packages/PIL/ImageFile.py?line=211'>212</a>\u001b[0m err_code \u001b[39m=\u001b[39m \u001b[39m-\u001b[39m\u001b[39m3\u001b[39m  \u001b[39m# initialize to unknown error\u001b[39;00m\n\u001b[1;32m    <a href='file:///localdisk0/SCRATCH/cgarchbold/envs/py39/lib/python3.9/site-packages/PIL/ImageFile.py?line=212'>213</a>\u001b[0m \u001b[39mif\u001b[39;00m \u001b[39mnot\u001b[39;00m \u001b[39mself\u001b[39m\u001b[39m.\u001b[39mmap:\n\u001b[1;32m    <a href='file:///localdisk0/SCRATCH/cgarchbold/envs/py39/lib/python3.9/site-packages/PIL/ImageFile.py?line=213'>214</a>\u001b[0m     \u001b[39m# sort tiles in file order\u001b[39;00m\n",
      "File \u001b[0;32m/localdisk0/SCRATCH/cgarchbold/envs/py39/lib/python3.9/site-packages/PIL/ImageFile.py:281\u001b[0m, in \u001b[0;36mImageFile.load_prepare\u001b[0;34m(self)\u001b[0m\n\u001b[1;32m    <a href='file:///localdisk0/SCRATCH/cgarchbold/envs/py39/lib/python3.9/site-packages/PIL/ImageFile.py?line=277'>278</a>\u001b[0m \u001b[39mdef\u001b[39;00m \u001b[39mload_prepare\u001b[39m(\u001b[39mself\u001b[39m):\n\u001b[1;32m    <a href='file:///localdisk0/SCRATCH/cgarchbold/envs/py39/lib/python3.9/site-packages/PIL/ImageFile.py?line=278'>279</a>\u001b[0m     \u001b[39m# create image memory if necessary\u001b[39;00m\n\u001b[1;32m    <a href='file:///localdisk0/SCRATCH/cgarchbold/envs/py39/lib/python3.9/site-packages/PIL/ImageFile.py?line=279'>280</a>\u001b[0m     \u001b[39mif\u001b[39;00m \u001b[39mnot\u001b[39;00m \u001b[39mself\u001b[39m\u001b[39m.\u001b[39mim \u001b[39mor\u001b[39;00m \u001b[39mself\u001b[39m\u001b[39m.\u001b[39mim\u001b[39m.\u001b[39mmode \u001b[39m!=\u001b[39m \u001b[39mself\u001b[39m\u001b[39m.\u001b[39mmode \u001b[39mor\u001b[39;00m \u001b[39mself\u001b[39m\u001b[39m.\u001b[39mim\u001b[39m.\u001b[39msize \u001b[39m!=\u001b[39m \u001b[39mself\u001b[39m\u001b[39m.\u001b[39msize:\n\u001b[0;32m--> <a href='file:///localdisk0/SCRATCH/cgarchbold/envs/py39/lib/python3.9/site-packages/PIL/ImageFile.py?line=280'>281</a>\u001b[0m         \u001b[39mself\u001b[39m\u001b[39m.\u001b[39mim \u001b[39m=\u001b[39m Image\u001b[39m.\u001b[39;49mcore\u001b[39m.\u001b[39;49mnew(\u001b[39mself\u001b[39;49m\u001b[39m.\u001b[39;49mmode, \u001b[39mself\u001b[39;49m\u001b[39m.\u001b[39;49msize)\n\u001b[1;32m    <a href='file:///localdisk0/SCRATCH/cgarchbold/envs/py39/lib/python3.9/site-packages/PIL/ImageFile.py?line=281'>282</a>\u001b[0m     \u001b[39m# create palette (optional)\u001b[39;00m\n\u001b[1;32m    <a href='file:///localdisk0/SCRATCH/cgarchbold/envs/py39/lib/python3.9/site-packages/PIL/ImageFile.py?line=282'>283</a>\u001b[0m     \u001b[39mif\u001b[39;00m \u001b[39mself\u001b[39m\u001b[39m.\u001b[39mmode \u001b[39m==\u001b[39m \u001b[39m\"\u001b[39m\u001b[39mP\u001b[39m\u001b[39m\"\u001b[39m:\n",
      "\u001b[0;31mKeyboardInterrupt\u001b[0m: "
     ]
    }
   ],
   "source": [
    "import util\n",
    "from tqdm import tqdm\n",
    "import numpy as np\n",
    "\n",
    "\n",
    "ds = util.make_dataset('train')\n",
    "\n",
    "image_count = 0\n",
    "parcel_counts= np.array([])\n",
    "pixel_counts = []\n",
    "values = []\n",
    "for sample in tqdm(ds):\n",
    "    image_count+=1\n",
    "    #parcel_counts = np.append(parcel_counts, len(sample['masks']))\n",
    "    print(sample['masks'].shape)\n",
    "    print(sample['values'].shape)\n",
    "\n",
    "\n",
    "    #for mask in sample['masks']:\n",
    "    #    pixel_counts.append(np.count_nonzero(mask))\n",
    "    #for value in sample['values']:\n",
    "    #    values.append(value)\n",
    "\n",
    "\n",
    "\n",
    "print(image_count)\n",
    "print(parcel_counts)\n",
    "#print(np.mean(pixel_counts))\n",
    "#print(np.mean(values))\n",
    "\n",
    "\n",
    "    "
   ]
  },
  {
   "cell_type": "code",
   "execution_count": 9,
   "metadata": {},
   "outputs": [
    {
     "name": "stdout",
     "output_type": "stream",
     "text": [
      "464.0\n"
     ]
    }
   ],
   "source": [
    "print(max(parcel_counts))"
   ]
  },
  {
   "cell_type": "code",
   "execution_count": 24,
   "metadata": {},
   "outputs": [
    {
     "data": {
      "image/png": "[encoded data removed]",
      "text/plain": [
       "<Figure size 432x288 with 1 Axes>"
      ]
     },
     "metadata": {
      "needs_background": "light"
     },
     "output_type": "display_data"
    }
   ],
   "source": [
    "import matplotlib.pyplot as plt\n",
    "import pandas as pd\n",
    "\n",
    "vals = pd.DataFrame(np.array(values))\n",
    "\n",
    "fig, ax = plt.subplots(figsize = (6,4))\n",
    "vals.plot(kind='hist', density=True, bins= 10, ax=ax)\n",
    "vals.plot(kind='kde', ax =ax)\n",
    "\n",
    "plt.show()"
   ]
  }
 ],
 "metadata": {
  "interpreter": {
   "hash": "93f9f3ec969c73cdd84840fc4464b900a11b3dadd5d0c32f333c890176f1feff"
  },
  "kernelspec": {
   "display_name": "Python 3.9.9 ('py39')",
   "language": "python",
   "name": "python3"
  },
  "language_info": {
   "codemirror_mode": {
    "name": "ipython",
    "version": 3
   },
   "file_extension": ".py",
   "mimetype": "text/x-python",
   "name": "python",
   "nbconvert_exporter": "python",
   "pygments_lexer": "ipython3",
   "version": "3.9.9"
  },
  "orig_nbformat": 4
 },
 "nbformat": 4,
 "nbformat_minor": 2
}
