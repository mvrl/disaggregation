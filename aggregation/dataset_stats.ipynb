{
 "cells": [
  {
   "cell_type": "code",
   "execution_count": 1,
   "metadata": {},
   "outputs": [],
   "source": [
    "import pytorch_lightning as pl\n",
    "from trainAgg import OnexOneAggregationModule\n",
    "from util import my_collate\n",
    "import util\n",
    "import data_factory\n",
    "import numpy as np\n",
    "import torch\n",
    "from config import cfg\n",
    "from torch.utils.data import Dataset, DataLoader\n",
    "import matplotlib.pyplot as plt\n",
    "import matplotlib as mpl\n",
    "from scipy import stats"
   ]
  },
  {
   "cell_type": "code",
   "execution_count": 2,
   "metadata": {},
   "outputs": [],
   "source": [
    "#model = aggregationModule.load_from_checkpoint('/u/pop-d1/grad/cgar222/Projects/disaggregation/aggregation/lightning_logs/version_65/checkpoints/epoch=4-step=2504.ckpt')"
   ]
  },
  {
   "cell_type": "code",
   "execution_count": 3,
   "metadata": {},
   "outputs": [
    {
     "name": "stdout",
     "output_type": "stream",
     "text": [
      "Reading GeoDataFrame...\n",
      "Done\n",
      "Loading all values...\n"
     ]
    }
   ],
   "source": [
    "this_dataset = util.make_dataset(mode = 'train', uniform=False)"
   ]
  },
  {
   "cell_type": "code",
   "execution_count": 5,
   "metadata": {},
   "outputs": [
    {
     "name": "stdout",
     "output_type": "stream",
     "text": [
      "2770\n"
     ]
    },
    {
     "data": {
      "image/png": "[encoded data removed]",
      "text/plain": [
       "<Figure size 432x288 with 1 Axes>"
      ]
     },
     "metadata": {
      "needs_background": "light"
     },
     "output_type": "display_data"
    },
    {
     "data": {
      "image/png": "[encoded data removed]",
      "text/plain": [
       "<Figure size 432x288 with 1 Axes>"
      ]
     },
     "metadata": {
      "needs_background": "light"
     },
     "output_type": "display_data"
    }
   ],
   "source": [
    "gdf = this_dataset.getgdf()\n",
    "plt.figure()\n",
    "gdf['AVERAGE_MV1'].plot.box()\n",
    "plt.savefig('/u/pop-d1/grad/cgar222/Projects/disaggregation/Plots/average_mv1.png')\n",
    "plt.figure()\n",
    "gdf['TOTAL_MV1'].plot.box()\n",
    "plt.savefig('/u/pop-d1/grad/cgar222/Projects/disaggregation/Plots/total_mv1.png')\n",
    "print(len(this_dataset))"
   ]
  },
  {
   "cell_type": "code",
   "execution_count": null,
   "metadata": {},
   "outputs": [],
   "source": []
  }
 ],
 "metadata": {
  "interpreter": {
   "hash": "d61a7b998940a89ade73acd94a5c17fd70d9876fb0a281b87336d455e61c12b9"
  },
  "kernelspec": {
   "display_name": "Python 3.6.12 64-bit ('py36': conda)",
   "name": "python3"
  },
  "language_info": {
   "codemirror_mode": {
    "name": "ipython",
    "version": 3
   },
   "file_extension": ".py",
   "mimetype": "text/x-python",
   "name": "python",
   "nbconvert_exporter": "python",
   "pygments_lexer": "ipython3",
   "version": "3.6.12"
  },
  "orig_nbformat": 2
 },
 "nbformat": 4,
 "nbformat_minor": 2
}
