{
 "cells": [
  {
   "cell_type": "code",
   "execution_count": 1,
   "metadata": {},
   "outputs": [
    {
     "name": "stderr",
     "output_type": "stream",
     "text": [
      "/localdisk0/SCRATCH/cgarchbold/envs/py40/lib/python3.9/site-packages/tqdm/auto.py:22: TqdmWarning: IProgress not found. Please update jupyter and ipywidgets. See https://ipywidgets.readthedocs.io/en/stable/user_install.html\n",
      "  from .autonotebook import tqdm as notebook_tqdm\n"
     ]
    },
    {
     "name": "stdout",
     "output_type": "stream",
     "text": [
      "1915 1532.0 191.5 192\n"
     ]
    }
   ],
   "source": [
    "import util\n",
    "\n",
    "train_loader, val_loader, test_loader = util.make_loaders(batch_size = 1, mode = 'test', sample_mode='combine')"
   ]
  },
  {
   "cell_type": "code",
   "execution_count": 2,
   "metadata": {},
   "outputs": [
    {
     "name": "stderr",
     "output_type": "stream",
     "text": [
      "100%|██████████| 1532/1532 [00:17<00:00, 88.23it/s] \n"
     ]
    }
   ],
   "source": [
    "from tqdm import tqdm\n",
    "\n",
    "train_values = []\n",
    "\n",
    "for batch in tqdm(train_loader):\n",
    "    image, masks, values = batch['image'], batch['masks'], batch['values']\n",
    "    indices = values.nonzero(as_tuple=True)\n",
    "    train_values.extend(values[indices])\n",
    "    #print(train_values)\n"
   ]
  },
  {
   "cell_type": "code",
   "execution_count": 3,
   "metadata": {},
   "outputs": [
    {
     "name": "stdout",
     "output_type": "stream",
     "text": [
      "tensor(101381.3748, dtype=torch.float64) std\n"
     ]
    }
   ],
   "source": [
    "import numpy as np\n",
    "from scipy import stats\n",
    "import torch\n",
    "\n",
    "train_values = np.array(train_values)\n",
    "\n",
    "mu,std = stats.norm.fit(train_values)\n",
    "\n",
    "gauss = torch.distributions.Normal(mu,std)\n",
    "\n",
    "print(torch.tensor(std), \"std\")"
   ]
  },
  {
   "cell_type": "code",
   "execution_count": null,
   "metadata": {},
   "outputs": [
    {
     "name": "stderr",
     "output_type": "stream",
     "text": [
      "100%|██████████| 192/192 [00:21<00:00,  9.14it/s]\n"
     ]
    }
   ],
   "source": [
    "test_values = []\n",
    "for batch in tqdm(test_loader):\n",
    "    image, masks, values = batch['image'], batch['masks'], batch['values']\n",
    "    indices = values.nonzero(as_tuple=True)\n",
    "    test_values.extend(values[indices])"
   ]
  },
  {
   "cell_type": "code",
   "execution_count": null,
   "metadata": {},
   "outputs": [
    {
     "name": "stdout",
     "output_type": "stream",
     "text": [
      "NUM PARCELS: 33516\n",
      "311995.05347705213 84.87022245471894 tensor(-14.3836, dtype=torch.float64) tensor(-14.0901, dtype=torch.float64) tensor(0.0141, dtype=torch.float64) tensor(0.1402, dtype=torch.float64)\n"
     ]
    }
   ],
   "source": [
    "test_values = np.array(test_values)\n",
    "\n",
    "print(\"NUM PARCELS: \"+ str(len(test_values) + len(train_values)))\n",
    "\n",
    "mae = np.mean(np.abs(test_values-mu))\n",
    "mape = np.mean(np.abs(mu-test_values)/test_values)*100\n",
    "log_prob = gauss.log_prob(torch.tensor(test_values))\n",
    "boundary_val = torch.tensor(10000)\n",
    "metric = torch.mean(gauss.cdf(torch.tensor(test_values) + boundary_val) - gauss.cdf(torch.tensor(test_values) - boundary_val))\n",
    "boundary_val2 = torch.tensor(100000)\n",
    "metric2 = torch.mean(gauss.cdf(torch.tensor(test_values) + boundary_val2) - gauss.cdf(torch.tensor(test_values) - boundary_val2))\n",
    "\n",
    "print(mae,mape, torch.mean(log_prob),torch.median(log_prob), metric, metric2)"
   ]
  },
  {
   "cell_type": "code",
   "execution_count": null,
   "metadata": {},
   "outputs": [
    {
     "data": {
      "image/png": "[encoded data removed]",
      "text/plain": [
       "<Figure size 432x288 with 1 Axes>"
      ]
     },
     "metadata": {
      "needs_background": "light"
     },
     "output_type": "display_data"
    }
   ],
   "source": [
    "import matplotlib.pyplot as plt\n",
    "\n",
    "plt.hist(train_values, bins=100)\n",
    "plt.show()"
   ]
  },
  {
   "cell_type": "code",
   "execution_count": null,
   "metadata": {},
   "outputs": [
    {
     "data": {
      "image/png": "[encoded data removed]",
      "text/plain": [
       "<Figure size 432x288 with 1 Axes>"
      ]
     },
     "metadata": {
      "needs_background": "light"
     },
     "output_type": "display_data"
    }
   ],
   "source": [
    "plt.hist(test_values, bins=100)\n",
    "plt.show()"
   ]
  }
 ],
 "metadata": {
  "interpreter": {
   "hash": "b74ce9fdd5abae04e66c66fe6319498f0ed27b57daa76e1b5f27d116501bbd66"
  },
  "kernelspec": {
   "display_name": "Python 3.9.12 ('py40')",
   "language": "python",
   "name": "python3"
  },
  "language_info": {
   "codemirror_mode": {
    "name": "ipython",
    "version": 3
   },
   "file_extension": ".py",
   "mimetype": "text/x-python",
   "name": "python",
   "nbconvert_exporter": "python",
   "pygments_lexer": "ipython3",
   "version": "3.9.12"
  },
  "orig_nbformat": 4
 },
 "nbformat": 4,
 "nbformat_minor": 2
}
