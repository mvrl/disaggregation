{
 "cells": [
  {
   "cell_type": "code",
   "execution_count": 1,
   "metadata": {},
   "outputs": [
    {
     "name": "stderr",
     "output_type": "stream",
     "text": [
      "/localdisk0/SCRATCH/cgarchbold/envs/py40/lib/python3.9/site-packages/tqdm/auto.py:22: TqdmWarning: IProgress not found. Please update jupyter and ipywidgets. See https://ipywidgets.readthedocs.io/en/stable/user_install.html\n",
      "  from .autonotebook import tqdm as notebook_tqdm\n"
     ]
    },
    {
     "name": "stdout",
     "output_type": "stream",
     "text": [
      "2174 1739.2 217.4 218\n"
     ]
    }
   ],
   "source": [
    "import util\n",
    "\n",
    "train_loader, val_loader, test_loader = util.make_loaders(batch_size = 1, mode = 'test', sample_mode='')"
   ]
  },
  {
   "cell_type": "code",
   "execution_count": 2,
   "metadata": {},
   "outputs": [
    {
     "name": "stderr",
     "output_type": "stream",
     "text": [
      "100%|██████████| 1739/1739 [02:00<00:00, 14.38it/s]\n"
     ]
    }
   ],
   "source": [
    "from tqdm import tqdm\n",
    "\n",
    "train_values = []\n",
    "\n",
    "for batch in tqdm(train_loader):\n",
    "    image, masks, values = batch['image'], batch['masks'], batch['values']\n",
    "    indices = values.nonzero(as_tuple=True)\n",
    "    train_values.extend(values[indices])\n",
    "    #print(train_values)\n"
   ]
  },
  {
   "cell_type": "code",
   "execution_count": 9,
   "metadata": {},
   "outputs": [],
   "source": [
    "import numpy as np\n",
    "import scipy\n",
    "import torch\n",
    "\n",
    "train_values = np.array(train_values)\n",
    "\n",
    "mu,std = scipy.stats.norm.fit(train_values)\n",
    "\n",
    "gauss = torch.distributions.Normal(mu,std)"
   ]
  },
  {
   "cell_type": "code",
   "execution_count": 6,
   "metadata": {},
   "outputs": [
    {
     "name": "stderr",
     "output_type": "stream",
     "text": [
      "100%|██████████| 1739/1739 [00:17<00:00, 101.66it/s]\n"
     ]
    }
   ],
   "source": [
    "test_values = []\n",
    "for batch in tqdm(test_loader):\n",
    "    image, masks, values = batch['image'], batch['masks'], batch['values']\n",
    "    indices = values.nonzero(as_tuple=True)\n",
    "    test_values.extend(values[indices])"
   ]
  },
  {
   "cell_type": "code",
   "execution_count": 20,
   "metadata": {},
   "outputs": [
    {
     "name": "stdout",
     "output_type": "stream",
     "text": [
      "125822.62903746808 46.757069226862384 tensor(-13.4254, dtype=torch.float64) tensor(0.0357, dtype=torch.float64)\n"
     ]
    }
   ],
   "source": [
    "test_values = np.array(test_values)\n",
    "\n",
    "mae = np.mean(np.abs(test_values-mu))\n",
    "mape = np.mean(np.abs(mu-test_values)/test_values)*100\n",
    "log_prob = torch.mean(gauss.log_prob(torch.tensor(test_values)))\n",
    "boundary_val = torch.tensor(10000)\n",
    "metric = torch.mean(gauss.cdf(torch.tensor(test_values) + boundary_val) - gauss.cdf(torch.tensor(test_values) - boundary_val))\n",
    "\n",
    "print(mae,mape, log_prob, metric)"
   ]
  },
  {
   "cell_type": "code",
   "execution_count": 24,
   "metadata": {},
   "outputs": [
    {
     "data": {
      "image/png": "[encoded data removed]",
      "text/plain": [
       "<Figure size 432x288 with 1 Axes>"
      ]
     },
     "metadata": {
      "needs_background": "light"
     },
     "output_type": "display_data"
    }
   ],
   "source": [
    "import matplotlib.pyplot as plt\n",
    "\n",
    "plt.hist(train_values, bins=100)\n",
    "plt.show()"
   ]
  },
  {
   "cell_type": "code",
   "execution_count": 25,
   "metadata": {},
   "outputs": [
    {
     "data": {
      "image/png": "[encoded data removed]",
      "text/plain": [
       "<Figure size 432x288 with 1 Axes>"
      ]
     },
     "metadata": {
      "needs_background": "light"
     },
     "output_type": "display_data"
    }
   ],
   "source": [
    "plt.hist(test_values, bins=100)\n",
    "plt.show()"
   ]
  }
 ],
 "metadata": {
  "interpreter": {
   "hash": "b74ce9fdd5abae04e66c66fe6319498f0ed27b57daa76e1b5f27d116501bbd66"
  },
  "kernelspec": {
   "display_name": "Python 3.9.12 ('py40')",
   "language": "python",
   "name": "python3"
  },
  "language_info": {
   "codemirror_mode": {
    "name": "ipython",
    "version": 3
   },
   "file_extension": ".py",
   "mimetype": "text/x-python",
   "name": "python",
   "nbconvert_exporter": "python",
   "pygments_lexer": "ipython3",
   "version": "3.9.12"
  },
  "orig_nbformat": 4
 },
 "nbformat": 4,
 "nbformat_minor": 2
}
