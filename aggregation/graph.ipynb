{
 "cells": [
  {
   "cell_type": "code",
   "execution_count": 10,
   "metadata": {},
   "outputs": [
    {
     "name": "stdout",
     "output_type": "stream",
     "text": [
      "Reading GeoDataFrame...\n",
      "Done\n",
      "Loading all values...\n",
      "Done...\n",
      "1085 868.0 108.5 109\n"
     ]
    },
    {
     "name": "stderr",
     "output_type": "stream",
     "text": [
      "100%|██████████| 109/109 [01:58<00:00,  1.09s/it]\n"
     ]
    },
    {
     "ename": "TypeError",
     "evalue": "can't convert cuda:1 device type tensor to numpy. Use Tensor.cpu() to copy the tensor to host memory first.",
     "output_type": "error",
     "traceback": [
      "\u001b[0;31m---------------------------------------------------------------------------\u001b[0m",
      "\u001b[0;31mTypeError\u001b[0m                                 Traceback (most recent call last)",
      "\u001b[1;32m/u/amo-d0/grad/cgar/Projects/disaggregation/aggregation/graph.ipynb Cell 1'\u001b[0m in \u001b[0;36m<module>\u001b[0;34m\u001b[0m\n\u001b[1;32m     <a href='vscode-notebook-cell://ssh-remote%2Braven.csr.uky.edu/u/amo-d0/grad/cgar/Projects/disaggregation/aggregation/graph.ipynb#ch0000000vscode-remote?line=58'>59</a>\u001b[0m prob_avgs_sample\u001b[39m.\u001b[39mappend(np\u001b[39m.\u001b[39marray(probs_sample)\u001b[39m.\u001b[39mmean())\n\u001b[1;32m     <a href='vscode-notebook-cell://ssh-remote%2Braven.csr.uky.edu/u/amo-d0/grad/cgar/Projects/disaggregation/aggregation/graph.ipynb#ch0000000vscode-remote?line=59'>60</a>\u001b[0m prob_avgs_gauss\u001b[39m.\u001b[39mappend(np\u001b[39m.\u001b[39marray(probs_gauss)\u001b[39m.\u001b[39mmean())\n\u001b[0;32m---> <a href='vscode-notebook-cell://ssh-remote%2Braven.csr.uky.edu/u/amo-d0/grad/cgar/Projects/disaggregation/aggregation/graph.ipynb#ch0000000vscode-remote?line=60'>61</a>\u001b[0m prob_avgs_fit\u001b[39m.\u001b[39mappend(np\u001b[39m.\u001b[39;49marray(probs_fit)\u001b[39m.\u001b[39mmean())\n\u001b[1;32m     <a href='vscode-notebook-cell://ssh-remote%2Braven.csr.uky.edu/u/amo-d0/grad/cgar/Projects/disaggregation/aggregation/graph.ipynb#ch0000000vscode-remote?line=61'>62</a>\u001b[0m xs\u001b[39m.\u001b[39mappend(x)\n",
      "File \u001b[0;32m/localdisk0/SCRATCH/cgarchbold/envs/py39/lib/python3.9/site-packages/torch/_tensor.py:678\u001b[0m, in \u001b[0;36mTensor.__array__\u001b[0;34m(self, dtype)\u001b[0m\n\u001b[1;32m    <a href='file:///localdisk0/SCRATCH/cgarchbold/envs/py39/lib/python3.9/site-packages/torch/_tensor.py?line=675'>676</a>\u001b[0m     \u001b[39mreturn\u001b[39;00m handle_torch_function(Tensor\u001b[39m.\u001b[39m__array__, (\u001b[39mself\u001b[39m,), \u001b[39mself\u001b[39m, dtype\u001b[39m=\u001b[39mdtype)\n\u001b[1;32m    <a href='file:///localdisk0/SCRATCH/cgarchbold/envs/py39/lib/python3.9/site-packages/torch/_tensor.py?line=676'>677</a>\u001b[0m \u001b[39mif\u001b[39;00m dtype \u001b[39mis\u001b[39;00m \u001b[39mNone\u001b[39;00m:\n\u001b[0;32m--> <a href='file:///localdisk0/SCRATCH/cgarchbold/envs/py39/lib/python3.9/site-packages/torch/_tensor.py?line=677'>678</a>\u001b[0m     \u001b[39mreturn\u001b[39;00m \u001b[39mself\u001b[39;49m\u001b[39m.\u001b[39;49mnumpy()\n\u001b[1;32m    <a href='file:///localdisk0/SCRATCH/cgarchbold/envs/py39/lib/python3.9/site-packages/torch/_tensor.py?line=678'>679</a>\u001b[0m \u001b[39melse\u001b[39;00m:\n\u001b[1;32m    <a href='file:///localdisk0/SCRATCH/cgarchbold/envs/py39/lib/python3.9/site-packages/torch/_tensor.py?line=679'>680</a>\u001b[0m     \u001b[39mreturn\u001b[39;00m \u001b[39mself\u001b[39m\u001b[39m.\u001b[39mnumpy()\u001b[39m.\u001b[39mastype(dtype, copy\u001b[39m=\u001b[39m\u001b[39mFalse\u001b[39;00m)\n",
      "\u001b[0;31mTypeError\u001b[0m: can't convert cuda:1 device type tensor to numpy. Use Tensor.cpu() to copy the tensor to host memory first."
     ]
    }
   ],
   "source": [
    "import torch\n",
    "import os\n",
    "import util\n",
    "import train\n",
    "import numpy as np\n",
    "from tqdm import tqdm\n",
    "import torch.distributions as dist\n",
    "\n",
    "torch.cuda.set_device(1)\n",
    "\n",
    "def loadModel(ckpt_path, model_name):\n",
    "    model =train.chooseModel(model_name)\n",
    "\n",
    "    model = model.load_from_checkpoint(ckpt_path, \n",
    "        use_pretrained=False)\n",
    "    return model\n",
    "\n",
    "model_rsample = loadModel('/u/amo-d0/grad/cgar/Projects/disaggregation/aggregation/results/rsample_final_2_pretrained_200_1e7_batchsize=8/best.ckpt', 'rsample')\n",
    "model_gauss = loadModel('/u/amo-d0/grad/cgar/Projects/disaggregation/aggregation/results/gauss_final_2_pretrained_200/best.ckpt', 'gauss')\n",
    "gauss_train = torch.dist(torch.tensor(310592.144538),torch.tensor(112758.4427697))\n",
    "train_loader, val_loader, test_loader = util.make_loaders(batch_size = 1, mode = 'test', sample_mode='')\n",
    "\n",
    "prob_avgs_sample = []\n",
    "prob_avgs_gauss = []\n",
    "prob_avgs_fit = []\n",
    "xs = []\n",
    "for x in range(10000,100000,10000):\n",
    "    probs_sample = []\n",
    "    probs_gauss = []\n",
    "    probs_fit = []\n",
    "    with torch.no_grad():\n",
    "            for sample in tqdm(test_loader):\n",
    "                image, mask, value = sample\n",
    "\n",
    "                #estimated_values = model.pred_Out(image, mask)\n",
    "                #print(value)\n",
    "\n",
    "                #print(len(model_rsample.log_out(image,mask,value,x)))\n",
    "\n",
    "                log = model_rsample.log_out(image,mask,value,x)[0].cpu().numpy().tolist()\n",
    "                #print(len(log))\n",
    "                probs_sample.extend(log)\n",
    "\n",
    "                log = model_gauss.log_out(image,mask,value,x)[0].cpu().numpy().tolist()\n",
    "                probs_gauss.extend(log)\n",
    "\n",
    "                losses=[]\n",
    "                for target in value[0]:\n",
    "                        gauss = dist.Normal(torch.tensor(310592.1445), torch.tensor(112758.4427))\n",
    "\n",
    "                        val = torch.tensor(x)\n",
    "\n",
    "                        metric = gauss.cdf(target+ val) - gauss.cdf(target - val)\n",
    "                        losses.append(metric)\n",
    "                        probs_fit.extend(losses)\n",
    "\n",
    "                #estimated_arr.extend( estimated_values[0].cpu().numpy().tolist())\n",
    "                #value_arr.extend(value[0].numpy().tolist())\n",
    "    prob_avgs_sample.append(np.array(probs_sample).mean())\n",
    "    prob_avgs_gauss.append(np.array(probs_gauss).mean())\n",
    "    prob_avgs_fit.append(np.array(probs_fit).mean())\n",
    "    xs.append(x)\n",
    "\n",
    "                "
   ]
  },
  {
   "cell_type": "code",
   "execution_count": null,
   "metadata": {},
   "outputs": [],
   "source": []
  }
 ],
 "metadata": {
  "interpreter": {
   "hash": "93f9f3ec969c73cdd84840fc4464b900a11b3dadd5d0c32f333c890176f1feff"
  },
  "kernelspec": {
   "display_name": "Python 3.9.9 ('py39')",
   "language": "python",
   "name": "python3"
  },
  "language_info": {
   "codemirror_mode": {
    "name": "ipython",
    "version": 3
   },
   "file_extension": ".py",
   "mimetype": "text/x-python",
   "name": "python",
   "nbconvert_exporter": "python",
   "pygments_lexer": "ipython3",
   "version": "3.9.9"
  },
  "orig_nbformat": 4
 },
 "nbformat": 4,
 "nbformat_minor": 2
}
