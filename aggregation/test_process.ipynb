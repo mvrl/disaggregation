{
 "metadata": {
  "language_info": {
   "codemirror_mode": {
    "name": "ipython",
    "version": 3
   },
   "file_extension": ".py",
   "mimetype": "text/x-python",
   "name": "python",
   "nbconvert_exporter": "python",
   "pygments_lexer": "ipython3",
   "version": "3.6.12"
  },
  "orig_nbformat": 2,
  "kernelspec": {
   "name": "python3",
   "display_name": "Python 3.6.12 64-bit ('py36': conda)"
  },
  "interpreter": {
   "hash": "85d7dfeef3a55519651d97efe25a489073601aa4b1d654859e0cbc89954eb363"
  }
 },
 "nbformat": 4,
 "nbformat_minor": 2,
 "cells": [
  {
   "cell_type": "code",
   "execution_count": 1,
   "source": [
    "import pytorch_lightning as pl\n",
    "from trainAgg import OnexOneAggregationModule\n",
    "from util import my_collate\n",
    "import util\n",
    "import data_factory\n",
    "import numpy as np\n",
    "import torch\n",
    "from config import cfg\n",
    "from torch.utils.data import Dataset, DataLoader\n",
    "import matplotlib.pyplot as plt\n",
    "import matplotlib as mpl\n",
    "from scipy import stats"
   ],
   "outputs": [],
   "metadata": {}
  },
  {
   "cell_type": "code",
   "execution_count": 2,
   "source": [
    "#model = aggregationModule.load_from_checkpoint('/u/pop-d1/grad/cgar222/Projects/disaggregation/aggregation/lightning_logs/version_65/checkpoints/epoch=4-step=2504.ckpt')"
   ],
   "outputs": [],
   "metadata": {}
  },
  {
   "cell_type": "code",
   "execution_count": 3,
   "source": [
    "this_dataset = util.make_dataset(mode = 'train')"
   ],
   "outputs": [
    {
     "output_type": "stream",
     "name": "stdout",
     "text": [
      "Reading GeoDataFrame...\n",
      "Done\n",
      "Generating list of useful chips\n"
     ]
    },
    {
     "output_type": "stream",
     "name": "stderr",
     "text": [
      "100%|██████████| 3536/3536 [00:01<00:00, 1860.55it/s]\n"
     ]
    },
    {
     "output_type": "stream",
     "name": "stdout",
     "text": [
      "Loading all values...\n"
     ]
    }
   ],
   "metadata": {}
  },
  {
   "cell_type": "code",
   "execution_count": 4,
   "source": [
    "gdf = this_dataset.getgdf()\n",
    "\n",
    "#print(gdf.keys().values,  sep='\\n')\n",
    "#plt.gca().set(title='Frequency Histogram of Diamond Depths', ylabel='Frequency')\n",
    "plt.figure()\n",
    "gdf['AVERAGE_MV1'].plot.box()\n",
    "plt.savefig('/u/pop-d1/grad/cgar222/Projects/disaggregation/Plots/total_mv1.png')\n",
    "values=  gdf['AVERAGE_MV1']\n",
    "#gdf = gdf[gdf['TOTAL_MV1'].between(gdf['TOTAL_MV1'].quantile(0.1), gdf['TOTAL_MV1'].quantile(0.9))]\n",
    "plt.figure()\n",
    "gdf['TOTAL_MV1'].plot.box()\n",
    "#gdf['TOTAL_MV1'].plot.hist()\n",
    "#values = values[values.between(values.quantile(0.1), values.quantile(0.9))]\n",
    "values = (values - min( values )) / (max( values ) - min(values))\n",
    "#values = values.where(values > 0)\n",
    "#values = values.where(values < 10**6)\n",
    "plt.figure()\n",
    "values.plot.box()\n",
    "plt.savefig('/u/pop-d1/grad/cgar222/Projects/disaggregation/Plots/total_mv1_fixed.png')\n",
    "#print(gdf['TOTAL_MV1'].mean())\n",
    "#plt.hist(gdf['SALE_PRICE'].values, bins=50)s\n",
    "\n",
    "print(len(this_dataset))"
   ],
   "outputs": [
    {
     "output_type": "stream",
     "name": "stdout",
     "text": [
      "3009\n"
     ]
    },
    {
     "output_type": "display_data",
     "data": {
      "image/png": "[encoded data removed]",
      "text/plain": [
       "<Figure size 432x288 with 1 Axes>"
      ]
     },
     "metadata": {
      "needs_background": "light"
     }
    },
    {
     "output_type": "display_data",
     "data": {
      "image/png": "[encoded data removed]",
      "text/plain": [
       "<Figure size 432x288 with 1 Axes>"
      ]
     },
     "metadata": {
      "needs_background": "light"
     }
    },
    {
     "output_type": "display_data",
     "data": {
      "image/png": "[encoded data removed]",
      "text/plain": [
       "<Figure size 432x288 with 1 Axes>"
      ]
     },
     "metadata": {
      "needs_background": "light"
     }
    }
   ],
   "metadata": {}
  },
  {
   "cell_type": "code",
   "execution_count": 5,
   "source": [
    "this_dataset[0]"
   ],
   "outputs": [
    {
     "output_type": "execute_result",
     "data": {
      "text/plain": [
       "{'image': tensor([[[0.6157, 0.6392, 0.4510,  ..., 0.5216, 0.4941, 0.6588],\n",
       "          [0.7098, 0.6980, 0.7059,  ..., 0.5255, 0.5176, 0.6392],\n",
       "          [0.6471, 0.5765, 0.5843,  ..., 0.5176, 0.5059, 0.6392],\n",
       "          ...,\n",
       "          [0.0000, 0.0000, 0.0000,  ..., 0.5529, 0.7098, 0.7451],\n",
       "          [0.0000, 0.0000, 0.0000,  ..., 0.5765, 0.4039, 0.4431],\n",
       "          [0.0000, 0.0000, 0.0000,  ..., 0.4000, 0.5451, 0.4314]],\n",
       " \n",
       "         [[0.5020, 0.5255, 0.2941,  ..., 0.4392, 0.4118, 0.5882],\n",
       "          [0.6039, 0.5882, 0.5804,  ..., 0.4471, 0.4353, 0.5686],\n",
       "          [0.5333, 0.4549, 0.4471,  ..., 0.4353, 0.4235, 0.5686],\n",
       "          ...,\n",
       "          [0.0627, 0.0000, 0.0000,  ..., 0.4000, 0.5725, 0.6039],\n",
       "          [0.0745, 0.0627, 0.0549,  ..., 0.4745, 0.2706, 0.3176],\n",
       "          [0.0627, 0.0667, 0.0863,  ..., 0.2941, 0.4392, 0.3216]],\n",
       " \n",
       "         [[0.4392, 0.4549, 0.2235,  ..., 0.4157, 0.3843, 0.5569],\n",
       "          [0.5451, 0.5216, 0.5137,  ..., 0.4196, 0.4078, 0.5333],\n",
       "          [0.4745, 0.3843, 0.3765,  ..., 0.4078, 0.4000, 0.5333],\n",
       "          ...,\n",
       "          [0.1412, 0.1137, 0.1059,  ..., 0.2118, 0.3922, 0.4157],\n",
       "          [0.1529, 0.1373, 0.1294,  ..., 0.2941, 0.0431, 0.1294],\n",
       "          [0.1412, 0.1412, 0.1608,  ..., 0.1059, 0.2549, 0.0824]]]),\n",
       " 'parcel_masks': array([[0, 0, 0, ..., 0, 0, 0],\n",
       "        [0, 0, 0, ..., 0, 0, 0],\n",
       "        [0, 0, 0, ..., 0, 0, 0],\n",
       "        ...,\n",
       "        [0, 0, 0, ..., 0, 0, 0],\n",
       "        [0, 0, 0, ..., 0, 0, 0],\n",
       "        [0, 0, 0, ..., 0, 0, 0]], dtype=uint8),\n",
       " 'parcel_values': tensor([0.4054, 0.5024, 0.5114, 0.3520, 0.4355, 0.4148, 0.4631, 0.5507, 0.5190,\n",
       "         0.5571, 0.3713, 0.4517], dtype=torch.float64),\n",
       " 'polygons': 0,\n",
       " 'img_bbox': (461349.0, 461651.0, 4969349.0, 4969651.0)}"
      ]
     },
     "metadata": {},
     "execution_count": 5
    }
   ],
   "metadata": {}
  },
  {
   "cell_type": "code",
   "execution_count": 6,
   "source": [
    "import matplotlib as mpl\n",
    "# lets get a batch and look at the cnn output\n",
    "\n",
    "# https://stackoverflow.com/questions/51329159/how-can-i-generate-and-display-a-grid-of-images-in-pytorch-with-plt-imshow-and-t\n",
    "\n",
    "with torch.no_grad(): \n",
    "    for batch in train_loader:\n",
    "        image, parcel_masks, parcel_values = batch\n",
    "\n",
    "        output = model.cnnOutput(image)\n",
    "        plt.figure()\n",
    "        # now we want to plot the images\n",
    "        plt.imshow(  image[3].permute(1, 2, 0)  )\n",
    "        plt.savefig('/u/pop-d1/grad/cgar222/Projects/disaggregation/Plots/image.png')\n",
    "        plt.figure()\n",
    "        \n",
    "        # plot the outputs\n",
    "        plt.imshow(  output[3].permute(1, 2, 0), cmap=\"YlGn\")#, norm=mpl.colors.LogNorm()  )\n",
    "        plt.colorbar()\n",
    "        plt.savefig('/u/pop-d1/grad/cgar222/Projects/disaggregation/Plots/output.png')\n",
    "        break   \n",
    "\n"
   ],
   "outputs": [
    {
     "output_type": "error",
     "ename": "NameError",
     "evalue": "name 'train_loader' is not defined",
     "traceback": [
      "\u001b[0;31m---------------------------------------------------------------------------\u001b[0m",
      "\u001b[0;31mNameError\u001b[0m                                 Traceback (most recent call last)",
      "\u001b[0;32m<ipython-input-6-3a4f2fe229f9>\u001b[0m in \u001b[0;36m<module>\u001b[0;34m()\u001b[0m\n\u001b[1;32m      5\u001b[0m \u001b[0;34m\u001b[0m\u001b[0m\n\u001b[1;32m      6\u001b[0m \u001b[0;32mwith\u001b[0m \u001b[0mtorch\u001b[0m\u001b[0;34m.\u001b[0m\u001b[0mno_grad\u001b[0m\u001b[0;34m(\u001b[0m\u001b[0;34m)\u001b[0m\u001b[0;34m:\u001b[0m\u001b[0;34m\u001b[0m\u001b[0;34m\u001b[0m\u001b[0m\n\u001b[0;32m----> 7\u001b[0;31m     \u001b[0;32mfor\u001b[0m \u001b[0mbatch\u001b[0m \u001b[0;32min\u001b[0m \u001b[0mtrain_loader\u001b[0m\u001b[0;34m:\u001b[0m\u001b[0;34m\u001b[0m\u001b[0;34m\u001b[0m\u001b[0m\n\u001b[0m\u001b[1;32m      8\u001b[0m         \u001b[0mimage\u001b[0m\u001b[0;34m,\u001b[0m \u001b[0mparcel_masks\u001b[0m\u001b[0;34m,\u001b[0m \u001b[0mparcel_values\u001b[0m \u001b[0;34m=\u001b[0m \u001b[0mbatch\u001b[0m\u001b[0;34m\u001b[0m\u001b[0;34m\u001b[0m\u001b[0m\n\u001b[1;32m      9\u001b[0m \u001b[0;34m\u001b[0m\u001b[0m\n",
      "\u001b[0;31mNameError\u001b[0m: name 'train_loader' is not defined"
     ]
    }
   ],
   "metadata": {}
  },
  {
   "cell_type": "code",
   "execution_count": null,
   "source": [],
   "outputs": [],
   "metadata": {}
  }
 ]
}