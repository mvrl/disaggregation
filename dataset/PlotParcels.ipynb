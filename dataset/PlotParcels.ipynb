{
 "metadata": {
  "language_info": {
   "codemirror_mode": {
    "name": "ipython",
    "version": 3
   },
   "file_extension": ".py",
   "mimetype": "text/x-python",
   "name": "python",
   "nbconvert_exporter": "python",
   "pygments_lexer": "ipython3",
   "version": "3.8.2-final"
  },
  "orig_nbformat": 2,
  "kernelspec": {
   "name": "python3",
   "display_name": "Python 3.8.2 64-bit ('base': conda)",
   "metadata": {
    "interpreter": {
     "hash": "34689079aacdef9d78b6e08fb6c78f42ad1a9bd08a5497abbeed4d2480c4d835"
    }
   }
  }
 },
 "nbformat": 4,
 "nbformat_minor": 2,
 "cells": [
  {
   "cell_type": "code",
   "execution_count": 1,
   "metadata": {
    "tags": []
   },
   "outputs": [
    {
     "output_type": "stream",
     "name": "stdout",
     "text": [
      "             PID PID_TEXT DIV_STATUS  FEATURECOD  STATE_CD TORRENS_TY  \\\n0  3511824410002      (2)       None         501      1150          A   \n1  3511824410003      (3)       None         501      1150          A   \n2  3511824410004      (4)       None         501      1150          A   \n3  3511824410005      (5)       None         501      1150          A   \n4  3511824410006      (6)       None         501      1150          A   \n\n   HOUSE_NO FRAC_HOUSE       STREET_NM CONDO_NO  ... QUAL_IMPR4 VET_EXCL4  \\\n0       385       None  CO RD NO 110 N     None  ...          0         0   \n1      5700       None       ROBERT RD     None  ...          0         0   \n2      5800       None       ROBERT RD     None  ...          0         0   \n3      5777       None       ROBERT RD     None  ...          0         0   \n4       249       None  HAMILTON HILLS     None  ...          0         0   \n\n  HMS_EXCL4 NET_TC4 NET_TAX4        LAT        LON    Shape_STAr  Shape_STLe  \\\n0         0       0      0.0  44.985196 -93.667277  20125.589356  587.879639   \n1         0       0      0.0  44.984079 -93.669198  20213.848633  562.596137   \n2         0       0      0.0  44.984178 -93.670903  20077.133545  571.188350   \n3         0       0      0.0  44.982727 -93.670768  10186.501465  432.489837   \n4         0       0      0.0  44.982843 -93.669167  12523.999023  459.277630   \n\n                                            geometry  \n0  POLYGON ((447471.006 4981455.864, 447320.539 4...  \n1  POLYGON ((447320.539 4981456.091, 447319.803 4...  \n2  POLYGON ((447171.392 4981467.966, 447171.235 4...  \n3  POLYGON ((447186.838 4981300.227, 447159.607 4...  \n4  POLYGON ((447266.637 4981194.449, 447159.607 4...  \n\n[5 rows x 121 columns]\n0     322500\n1     130000\n2     130000\n3     125700\n4     125700\n5     125700\n6     125700\n7     125700\n8       3200\n9       3900\n10      3600\n11    125700\n12    130000\n13    134200\n14    130000\n15    125700\n16    194400\n17    125800\n18    125800\n19    125800\n20         0\n21         0\n22    310000\n23    524800\n24    568000\n25    657000\nName: TOTAL_MV1, dtype: int64\n0    POLYGON ((447471.006 4981455.864, 447320.539 4...\n1    POLYGON ((447320.539 4981456.091, 447319.803 4...\n2    POLYGON ((447171.392 4981467.966, 447171.235 4...\n3    POLYGON ((447186.838 4981300.227, 447159.607 4...\n4    POLYGON ((447266.637 4981194.449, 447159.607 4...\nName: geometry, dtype: geometry\n(446946.0, 4980946.0, 447550.0, 4981550.0)\n447248.0\n4981248.0\n"
     ]
    },
    {
     "output_type": "error",
     "ename": "FileNotFoundError",
     "evalue": "[Errno 2] No such file or directory: 'downloads/458120/4973000/458120.000000_4973000.000000.jpg'",
     "traceback": [
      "\u001b[0;31m---------------------------------------------------------------------------\u001b[0m",
      "\u001b[0;31mFileNotFoundError\u001b[0m                         Traceback (most recent call last)",
      "\u001b[0;32m<ipython-input-1-ded13f41e2c4>\u001b[0m in \u001b[0;36m<module>\u001b[0;34m\u001b[0m\n\u001b[1;32m     26\u001b[0m \u001b[0mimg_path\u001b[0m \u001b[0;34m=\u001b[0m \u001b[0;34m'downloads/458120/4973000/458120.000000_4973000.000000.jpg'\u001b[0m\u001b[0;34m\u001b[0m\u001b[0;34m\u001b[0m\u001b[0m\n\u001b[1;32m     27\u001b[0m \u001b[0;34m\u001b[0m\u001b[0m\n\u001b[0;32m---> 28\u001b[0;31m \u001b[0mimg\u001b[0m \u001b[0;34m=\u001b[0m \u001b[0mmpimg\u001b[0m\u001b[0;34m.\u001b[0m\u001b[0mimread\u001b[0m\u001b[0;34m(\u001b[0m\u001b[0mimg_path\u001b[0m\u001b[0;34m)\u001b[0m\u001b[0;34m\u001b[0m\u001b[0;34m\u001b[0m\u001b[0m\n\u001b[0m\u001b[1;32m     29\u001b[0m \u001b[0;34m\u001b[0m\u001b[0m\n\u001b[1;32m     30\u001b[0m \u001b[0;34m\u001b[0m\u001b[0m\n",
      "\u001b[0;32m~/miniconda3/lib/python3.8/site-packages/matplotlib/image.py\u001b[0m in \u001b[0;36mimread\u001b[0;34m(fname, format)\u001b[0m\n\u001b[1;32m   1484\u001b[0m                     \u001b[0mresponse\u001b[0m \u001b[0;34m=\u001b[0m \u001b[0mio\u001b[0m\u001b[0;34m.\u001b[0m\u001b[0mBytesIO\u001b[0m\u001b[0;34m(\u001b[0m\u001b[0mresponse\u001b[0m\u001b[0;34m.\u001b[0m\u001b[0mread\u001b[0m\u001b[0;34m(\u001b[0m\u001b[0;34m)\u001b[0m\u001b[0;34m)\u001b[0m\u001b[0;34m\u001b[0m\u001b[0;34m\u001b[0m\u001b[0m\n\u001b[1;32m   1485\u001b[0m                 \u001b[0;32mreturn\u001b[0m \u001b[0mimread\u001b[0m\u001b[0;34m(\u001b[0m\u001b[0mresponse\u001b[0m\u001b[0;34m,\u001b[0m \u001b[0mformat\u001b[0m\u001b[0;34m=\u001b[0m\u001b[0mext\u001b[0m\u001b[0;34m)\u001b[0m\u001b[0;34m\u001b[0m\u001b[0;34m\u001b[0m\u001b[0m\n\u001b[0;32m-> 1486\u001b[0;31m     \u001b[0;32mwith\u001b[0m \u001b[0mimg_open\u001b[0m\u001b[0;34m(\u001b[0m\u001b[0mfname\u001b[0m\u001b[0;34m)\u001b[0m \u001b[0;32mas\u001b[0m \u001b[0mimage\u001b[0m\u001b[0;34m:\u001b[0m\u001b[0;34m\u001b[0m\u001b[0;34m\u001b[0m\u001b[0m\n\u001b[0m\u001b[1;32m   1487\u001b[0m         return (_pil_png_to_float_array(image)\n\u001b[1;32m   1488\u001b[0m                 \u001b[0;32mif\u001b[0m \u001b[0misinstance\u001b[0m\u001b[0;34m(\u001b[0m\u001b[0mimage\u001b[0m\u001b[0;34m,\u001b[0m \u001b[0mPIL\u001b[0m\u001b[0;34m.\u001b[0m\u001b[0mPngImagePlugin\u001b[0m\u001b[0;34m.\u001b[0m\u001b[0mPngImageFile\u001b[0m\u001b[0;34m)\u001b[0m \u001b[0;32melse\u001b[0m\u001b[0;34m\u001b[0m\u001b[0;34m\u001b[0m\u001b[0m\n",
      "\u001b[0;32m~/miniconda3/lib/python3.8/site-packages/PIL/Image.py\u001b[0m in \u001b[0;36mopen\u001b[0;34m(fp, mode)\u001b[0m\n\u001b[1;32m   2876\u001b[0m \u001b[0;34m\u001b[0m\u001b[0m\n\u001b[1;32m   2877\u001b[0m     \u001b[0;32mif\u001b[0m \u001b[0mfilename\u001b[0m\u001b[0;34m:\u001b[0m\u001b[0;34m\u001b[0m\u001b[0;34m\u001b[0m\u001b[0m\n\u001b[0;32m-> 2878\u001b[0;31m         \u001b[0mfp\u001b[0m \u001b[0;34m=\u001b[0m \u001b[0mbuiltins\u001b[0m\u001b[0;34m.\u001b[0m\u001b[0mopen\u001b[0m\u001b[0;34m(\u001b[0m\u001b[0mfilename\u001b[0m\u001b[0;34m,\u001b[0m \u001b[0;34m\"rb\"\u001b[0m\u001b[0;34m)\u001b[0m\u001b[0;34m\u001b[0m\u001b[0;34m\u001b[0m\u001b[0m\n\u001b[0m\u001b[1;32m   2879\u001b[0m         \u001b[0mexclusive_fp\u001b[0m \u001b[0;34m=\u001b[0m \u001b[0;32mTrue\u001b[0m\u001b[0;34m\u001b[0m\u001b[0;34m\u001b[0m\u001b[0m\n\u001b[1;32m   2880\u001b[0m \u001b[0;34m\u001b[0m\u001b[0m\n",
      "\u001b[0;31mFileNotFoundError\u001b[0m: [Errno 2] No such file or directory: 'downloads/458120/4973000/458120.000000_4973000.000000.jpg'"
     ]
    }
   ],
   "source": [
    "import geopandas as gp\n",
    "import pandas as pd\n",
    "import matplotlib.pyplot as plt\n",
    "import matplotlib.image as mpimg\n",
    "\n",
    "\n",
    "path_to_shapefile = 'hennepin_county_parcels/hennepin_county_parcels.shp'\n",
    "\n",
    "bbox_df = pd.read_csv('hennepin_bbox.csv')\n",
    "\n",
    "#Grab one row to get a quick test\n",
    "row = bbox_df.iloc[300]\n",
    "row_bbox = (row['lat_min'], row['lon_min'],row['lat_max'], row['lon_max'])\n",
    "\n",
    "gdf = gp.read_file(path_to_shapefile, bbox = row_bbox)\n",
    "print(gdf.head())\n",
    "print(gdf['TOTAL_MV1'])\n",
    "gdf = gdf['geometry']\n",
    "print(gdf.head())\n",
    "\n",
    "print(row_bbox)\n",
    "\n",
    "print(row['lat_mid'])\n",
    "print(row['lon_mid'])\n",
    "\n",
    "img_path = 'downloads/458120/4973000/458120.000000_4973000.000000.jpg'\n",
    "\n",
    "img = mpimg.imread(img_path)\n",
    "\n",
    "\n",
    "fig, (ax1, ax2) = plt.subplots(1, 2, figsize=(20, 10))\n",
    "fig.suptitle('Hennepin Property Line Plots')\n",
    "\n",
    "image_bbox = (row['lat_min'], row['lat_max'],row['lon_min'], row['lon_max'])\n",
    "\n",
    "gdf.plot(ax = ax2, alpha = 0.55, color = 'g', edgecolor=\"black\", linewidth=3)\n",
    "\n",
    "ax2.imshow(img, extent = image_bbox, origin = 'upper')\n",
    "ax1.imshow(img, extent = image_bbox, origin = 'upper')\n",
    "plt.show()\n",
    "\n",
    "\n",
    "fig.savefig('image.jpg')\n"
   ]
  },
  {
   "cell_type": "code",
   "execution_count": null,
   "metadata": {},
   "outputs": [],
   "source": []
  }
 ]
}