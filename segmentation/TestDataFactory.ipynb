{
 "metadata": {
  "language_info": {
   "codemirror_mode": {
    "name": "ipython",
    "version": 3
   },
   "file_extension": ".py",
   "mimetype": "text/x-python",
   "name": "python",
   "nbconvert_exporter": "python",
   "pygments_lexer": "ipython3",
   "version": "3.6.12-final"
  },
  "orig_nbformat": 2,
  "kernelspec": {
   "name": "python3",
   "display_name": "Python 3",
   "language": "python"
  }
 },
 "nbformat": 4,
 "nbformat_minor": 2,
 "cells": [
  {
   "cell_type": "code",
   "execution_count": 1,
   "metadata": {},
   "outputs": [],
   "source": [
    "import data_factory"
   ]
  },
  {
   "cell_type": "code",
   "execution_count": 2,
   "metadata": {},
   "outputs": [],
   "source": [
    "ds = data_factory.dataset_hennepin('train','/u/eag-d1/data/Hennepin/ver2/','/u/eag-d1/data/Hennepin/ver2/hennepin_bbox.csv','/u/pop-d1/grad/cgar222/Projects/disaggregation/dataset/hennepin_county_parcels/hennepin_county_parcels.shp')"
   ]
  },
  {
   "cell_type": "code",
   "execution_count": 3,
   "metadata": {},
   "outputs": [
    {
     "output_type": "stream",
     "name": "stdout",
     "text": [
      "1911724120003\n1911724210001\n1911724310001\n"
     ]
    },
    {
     "output_type": "execute_result",
     "data": {
      "text/plain": [
       "(tensor([[[0.4196, 0.4039, 0.4314,  ..., 0.2588, 0.3412, 0.5490],\n",
       "          [0.4078, 0.3020, 0.3804,  ..., 0.5216, 0.2824, 0.5216],\n",
       "          [0.3647, 0.3608, 0.4706,  ..., 0.6039, 0.5255, 0.1373],\n",
       "          ...,\n",
       "          [0.4902, 0.4549, 0.6275,  ..., 0.3373, 0.4078, 0.3569],\n",
       "          [0.3843, 0.3608, 0.3529,  ..., 0.4039, 0.3804, 0.3961],\n",
       "          [0.4667, 0.4431, 0.6275,  ..., 0.4196, 0.4627, 0.2627]],\n",
       " \n",
       "         [[0.3216, 0.3098, 0.3529,  ..., 0.1529, 0.1961, 0.4196],\n",
       "          [0.3059, 0.1922, 0.2784,  ..., 0.4118, 0.1451, 0.3725],\n",
       "          [0.2824, 0.2471, 0.3412,  ..., 0.4471, 0.3843, 0.0000],\n",
       "          ...,\n",
       "          [0.3529, 0.3529, 0.5098,  ..., 0.1765, 0.2471, 0.2235],\n",
       "          [0.2510, 0.2392, 0.2235,  ..., 0.2235, 0.2078, 0.2314],\n",
       "          [0.3412, 0.3059, 0.5176,  ..., 0.2784, 0.3373, 0.0549]],\n",
       " \n",
       "         [[0.2588, 0.2510, 0.3059,  ..., 0.1294, 0.1216, 0.3098],\n",
       "          [0.2667, 0.1176, 0.2196,  ..., 0.3412, 0.0667, 0.3059],\n",
       "          [0.2314, 0.1961, 0.2980,  ..., 0.3569, 0.2941, 0.0000],\n",
       "          ...,\n",
       "          [0.2510, 0.2588, 0.3961,  ..., 0.0863, 0.1804, 0.1647],\n",
       "          [0.1529, 0.1804, 0.1176,  ..., 0.1333, 0.0980, 0.1686],\n",
       "          [0.2353, 0.2314, 0.4392,  ..., 0.1961, 0.2235, 0.0000]]]),\n",
       " tensor([[1, 1, 1,  ..., 1, 1, 1],\n",
       "         [1, 1, 1,  ..., 1, 1, 1],\n",
       "         [1, 1, 1,  ..., 1, 1, 1],\n",
       "         ...,\n",
       "         [1, 1, 1,  ..., 1, 1, 1],\n",
       "         [1, 1, 1,  ..., 1, 1, 1],\n",
       "         [1, 1, 1,  ..., 1, 1, 1]], dtype=torch.uint8),\n",
       " tensor([[0, 0, 0,  ..., 0, 0, 0],\n",
       "         [0, 0, 0,  ..., 0, 0, 0],\n",
       "         [0, 0, 0,  ..., 0, 0, 0],\n",
       "         ...,\n",
       "         [0, 0, 0,  ..., 0, 0, 0],\n",
       "         [0, 0, 0,  ..., 0, 0, 0],\n",
       "         [0, 0, 0,  ..., 0, 0, 0]], dtype=torch.int32),\n",
       " [[222238], [222240], [222242]],\n",
       " array([[2.53896327],\n",
       "        [0.93128508],\n",
       "        [0.71138047]]))"
      ]
     },
     "metadata": {},
     "execution_count": 3
    }
   ],
   "source": [
    "ds[4]"
   ]
  },
  {
   "cell_type": "code",
   "execution_count": null,
   "metadata": {},
   "outputs": [],
   "source": []
  }
 ]
}