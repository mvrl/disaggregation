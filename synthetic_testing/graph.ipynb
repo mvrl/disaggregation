{
 "cells": [
  {
   "cell_type": "code",
   "execution_count": 1,
   "metadata": {},
   "outputs": [
    {
     "name": "stderr",
     "output_type": "stream",
     "text": [
      "/localdisk0/SCRATCH/cgarchbold/envs/py40/lib/python3.9/site-packages/tqdm/auto.py:22: TqdmWarning: IProgress not found. Please update jupyter and ipywidgets. See https://ipywidgets.readthedocs.io/en/stable/user_install.html\n",
      "  from .autonotebook import tqdm as notebook_tqdm\n"
     ]
    },
    {
     "name": "stdout",
     "output_type": "stream",
     "text": [
      "Files already downloaded and verified\n"
     ]
    }
   ],
   "source": [
    "import matplotlib.pyplot as plt\n",
    "from dataset import Eurosat,Cifar\n",
    "\n",
    "testset = Cifar(mode='test')"
   ]
  },
  {
   "cell_type": "markdown",
   "metadata": {},
   "source": []
  },
  {
   "cell_type": "code",
   "execution_count": 7,
   "metadata": {},
   "outputs": [
    {
     "name": "stdout",
     "output_type": "stream",
     "text": [
      "tensor([[[0.2549, 0.2745, 0.1882,  ..., 0.2000, 0.2118, 0.2627],\n",
      "         [0.2706, 0.3098, 0.2353,  ..., 0.2118, 0.2549, 0.2392],\n",
      "         [0.2863, 0.3294, 0.2824,  ..., 0.3059, 0.2863, 0.1882],\n",
      "         ...,\n",
      "         [0.3725, 0.3569, 0.2235,  ..., 0.5647, 0.6667, 0.4784],\n",
      "         [0.3686, 0.2941, 0.1255,  ..., 0.5608, 0.6039, 0.4157],\n",
      "         [0.3059, 0.1373, 0.0941,  ..., 0.5608, 0.6039, 0.5020]],\n",
      "\n",
      "        [[0.2667, 0.3176, 0.2510,  ..., 0.2627, 0.2980, 0.3412],\n",
      "         [0.3137, 0.4000, 0.2902,  ..., 0.2588, 0.3529, 0.3176],\n",
      "         [0.3725, 0.4275, 0.3451,  ..., 0.3843, 0.3843, 0.2314],\n",
      "         ...,\n",
      "         [0.4980, 0.4824, 0.3098,  ..., 0.6745, 0.7882, 0.5608],\n",
      "         [0.4902, 0.4078, 0.2039,  ..., 0.7098, 0.7373, 0.5059],\n",
      "         [0.4000, 0.2000, 0.1569,  ..., 0.7020, 0.7255, 0.6118]],\n",
      "\n",
      "        [[0.1961, 0.2510, 0.1804,  ..., 0.1608, 0.2078, 0.2588],\n",
      "         [0.2275, 0.3176, 0.2235,  ..., 0.1725, 0.2706, 0.2588],\n",
      "         [0.2824, 0.3412, 0.2745,  ..., 0.2941, 0.3020, 0.2000],\n",
      "         ...,\n",
      "         [0.3608, 0.3373, 0.1765,  ..., 0.4235, 0.5255, 0.3843],\n",
      "         [0.3216, 0.2784, 0.0941,  ..., 0.4549, 0.4824, 0.3490],\n",
      "         [0.2549, 0.1059, 0.0667,  ..., 0.5333, 0.5725, 0.4588]]])\n"
     ]
    },
    {
     "data": {
      "image/png": "[encoded data removed]",
      "text/plain": [
       "<Figure size 432x288 with 1 Axes>"
      ]
     },
     "metadata": {
      "needs_background": "light"
     },
     "output_type": "display_data"
    }
   ],
   "source": [
    "i =4\n",
    "sample = testset[i]\n",
    "image = sample['image']\n",
    "label = sample['label']\n",
    "\n",
    "print(image)\n",
    "\n",
    "plt.imshow(image.permute(1,2,0))\n",
    "#plt.imshow(label.reshape(1,2,0))\n",
    "plt.show()"
   ]
  },
  {
   "cell_type": "code",
   "execution_count": 8,
   "metadata": {},
   "outputs": [
    {
     "data": {
      "image/png": "[encoded data removed]",
      "text/plain": [
       "<Figure size 432x288 with 2 Axes>"
      ]
     },
     "metadata": {
      "needs_background": "light"
     },
     "output_type": "display_data"
    }
   ],
   "source": [
    "import torch\n",
    "plt.imshow(label)\n",
    " \n",
    "plt.colorbar()\n",
    "plt.show()"
   ]
  },
  {
   "cell_type": "code",
   "execution_count": 4,
   "metadata": {},
   "outputs": [
    {
     "name": "stdout",
     "output_type": "stream",
     "text": [
      "torch.Size([32, 32])\n",
      "torch.Size([1, 1, 4, 4])\n",
      "tensor([[[[0.0000, 0.0000, 0.0000, 0.0000],\n",
      "          [0.0000, 0.0000, 0.0000, 0.0000],\n",
      "          [0.0000, 0.0156, 0.0000, 0.0000],\n",
      "          [0.0000, 0.0000, 0.0000, 0.0000]]]])\n",
      "tensor([[[[0., 0., 0.,  ..., 0., 0., 0.],\n",
      "          [0., 0., 0.,  ..., 0., 0., 0.],\n",
      "          [0., 0., 0.,  ..., 0., 0., 0.],\n",
      "          ...,\n",
      "          [0., 0., 0.,  ..., 0., 0., 0.],\n",
      "          [0., 0., 0.,  ..., 0., 0., 0.],\n",
      "          [0., 0., 0.,  ..., 0., 0., 0.]]]])\n",
      "torch.Size([1, 1, 32, 32])\n"
     ]
    },
    {
     "name": "stderr",
     "output_type": "stream",
     "text": [
      "/localdisk0/SCRATCH/cgarchbold/envs/py40/lib/python3.9/site-packages/torch/nn/functional.py:3982: UserWarning: nn.functional.upsample_nearest is deprecated. Use nn.functional.interpolate instead.\n",
      "  warnings.warn(\"nn.functional.upsample_nearest is deprecated. Use nn.functional.interpolate instead.\")\n"
     ]
    },
    {
     "data": {
      "image/png": "[encoded data removed]",
      "text/plain": [
       "<Figure size 432x288 with 1 Axes>"
      ]
     },
     "metadata": {
      "needs_background": "light"
     },
     "output_type": "display_data"
    },
    {
     "data": {
      "text/plain": [
       "<matplotlib.image.AxesImage at 0x7f198027c580>"
      ]
     },
     "execution_count": 4,
     "metadata": {},
     "output_type": "execute_result"
    },
    {
     "data": {
      "image/png": "[encoded data removed]",
      "text/plain": [
       "<Figure size 432x288 with 1 Axes>"
      ]
     },
     "metadata": {
      "needs_background": "light"
     },
     "output_type": "display_data"
    }
   ],
   "source": [
    "import torch.nn as nn\n",
    "avg_pool = nn.AvgPool2d((8, 8), stride=8)\n",
    "\n",
    "print(label.shape)\n",
    "pooled = avg_pool(label.unsqueeze(0).unsqueeze(0))\n",
    "print(pooled.shape)\n",
    "plt.imshow(pooled.squeeze(0).squeeze(0))\n",
    "huh = torch.nn.functional.upsample_nearest(pooled,scale_factor=8)\n",
    "print(pooled)\n",
    "print(huh)\n",
    "print(huh.shape)\n",
    "plt.show()\n",
    "plt.imshow(huh.squeeze(0).squeeze(0))"
   ]
  }
 ],
 "metadata": {
  "kernelspec": {
   "display_name": "Python 3.9.12 ('py40')",
   "language": "python",
   "name": "python3"
  },
  "language_info": {
   "codemirror_mode": {
    "name": "ipython",
    "version": 3
   },
   "file_extension": ".py",
   "mimetype": "text/x-python",
   "name": "python",
   "nbconvert_exporter": "python",
   "pygments_lexer": "ipython3",
   "version": "3.9.12"
  },
  "orig_nbformat": 4,
  "vscode": {
   "interpreter": {
    "hash": "b74ce9fdd5abae04e66c66fe6319498f0ed27b57daa76e1b5f27d116501bbd66"
   }
  }
 },
 "nbformat": 4,
 "nbformat_minor": 2
}
